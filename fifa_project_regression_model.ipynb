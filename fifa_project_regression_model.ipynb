{
 "cells": [
  {
   "cell_type": "code",
   "execution_count": 1,
   "id": "34e930af",
   "metadata": {},
   "outputs": [],
   "source": [
    "import numpy as np\n",
    "import pandas as pd\n",
    "import matplotlib.pyplot as plt\n",
    "import seaborn as sns\n",
    "\n",
    "from sklearn.preprocessing import MinMaxScaler, StandardScaler, Normalizer\n",
    "from sklearn.linear_model import LinearRegression\n",
    "from sklearn.preprocessing import OneHotEncoder, OrdinalEncoder, LabelEncoder\n",
    "from sklearn.model_selection import train_test_split\n",
    "from sklearn.metrics import mean_squared_error\n",
    "from sklearn.metrics import r2_score, mean_absolute_error \n",
    "###All the libraries!!!"
   ]
  },
  {
   "cell_type": "code",
   "execution_count": 2,
   "id": "65bb51b2",
   "metadata": {},
   "outputs": [],
   "source": [
    "import warnings\n",
    "warnings.simplefilter(action='ignore', category=FutureWarning)\n",
    "\n",
    "#Supressing a warning about deprecated sns.distplot further down"
   ]
  },
  {
   "cell_type": "code",
   "execution_count": 3,
   "id": "186da942",
   "metadata": {},
   "outputs": [
    {
     "name": "stderr",
     "output_type": "stream",
     "text": [
      "C:\\Users\\chris\\anaconda3\\lib\\site-packages\\IPython\\core\\interactiveshell.py:3444: DtypeWarning: Columns (78) have mixed types.Specify dtype option on import or set low_memory=False.\n",
      "  exec(code_obj, self.user_global_ns, self.user_ns)\n"
     ]
    },
    {
     "data": {
      "text/plain": [
       "(17125, 107)"
      ]
     },
     "execution_count": 3,
     "metadata": {},
     "output_type": "execute_result"
    }
   ],
   "source": [
    "data = pd.read_csv('fifa21_male2.csv')\n",
    "data.shape"
   ]
  },
  {
   "cell_type": "code",
   "execution_count": 61,
   "id": "c2b8b7aa",
   "metadata": {},
   "outputs": [
    {
     "data": {
      "text/html": [
       "<div>\n",
       "<style scoped>\n",
       "    .dataframe tbody tr th:only-of-type {\n",
       "        vertical-align: middle;\n",
       "    }\n",
       "\n",
       "    .dataframe tbody tr th {\n",
       "        vertical-align: top;\n",
       "    }\n",
       "\n",
       "    .dataframe thead th {\n",
       "        text-align: right;\n",
       "    }\n",
       "</style>\n",
       "<table border=\"1\" class=\"dataframe\">\n",
       "  <thead>\n",
       "    <tr style=\"text-align: right;\">\n",
       "      <th></th>\n",
       "      <th>Name</th>\n",
       "      <th>Age</th>\n",
       "      <th>OVA</th>\n",
       "      <th>Nationality</th>\n",
       "      <th>BP</th>\n",
       "      <th>POT</th>\n",
       "      <th>Height</th>\n",
       "      <th>Weight</th>\n",
       "      <th>foot</th>\n",
       "      <th>Value</th>\n",
       "      <th>Wage</th>\n",
       "      <th>Release Clause</th>\n",
       "      <th>Total Stats</th>\n",
       "      <th>Base Stats</th>\n",
       "    </tr>\n",
       "  </thead>\n",
       "  <tbody>\n",
       "    <tr>\n",
       "      <th>0</th>\n",
       "      <td>G. Pasquale</td>\n",
       "      <td>33</td>\n",
       "      <td>69</td>\n",
       "      <td>Italy</td>\n",
       "      <td>LWB</td>\n",
       "      <td>69</td>\n",
       "      <td>72.0</td>\n",
       "      <td>181</td>\n",
       "      <td>Left</td>\n",
       "      <td>790.569415</td>\n",
       "      <td>83.666003</td>\n",
       "      <td>0.000000</td>\n",
       "      <td>1929</td>\n",
       "      <td>408</td>\n",
       "    </tr>\n",
       "    <tr>\n",
       "      <th>1</th>\n",
       "      <td>Luis García</td>\n",
       "      <td>37</td>\n",
       "      <td>71</td>\n",
       "      <td>Spain</td>\n",
       "      <td>CM</td>\n",
       "      <td>71</td>\n",
       "      <td>70.0</td>\n",
       "      <td>143</td>\n",
       "      <td>Right</td>\n",
       "      <td>774.596669</td>\n",
       "      <td>83.666003</td>\n",
       "      <td>1048.808848</td>\n",
       "      <td>1906</td>\n",
       "      <td>385</td>\n",
       "    </tr>\n",
       "    <tr>\n",
       "      <th>2</th>\n",
       "      <td>J. Cole</td>\n",
       "      <td>33</td>\n",
       "      <td>71</td>\n",
       "      <td>England</td>\n",
       "      <td>CAM</td>\n",
       "      <td>71</td>\n",
       "      <td>69.0</td>\n",
       "      <td>161</td>\n",
       "      <td>Right</td>\n",
       "      <td>1048.808848</td>\n",
       "      <td>122.474487</td>\n",
       "      <td>0.000000</td>\n",
       "      <td>1770</td>\n",
       "      <td>354</td>\n",
       "    </tr>\n",
       "    <tr>\n",
       "      <th>3</th>\n",
       "      <td>D. Yorke</td>\n",
       "      <td>36</td>\n",
       "      <td>68</td>\n",
       "      <td>Trinidad &amp;amp; Tobago</td>\n",
       "      <td>ST</td>\n",
       "      <td>82</td>\n",
       "      <td>71.0</td>\n",
       "      <td>165</td>\n",
       "      <td>Right</td>\n",
       "      <td>0.000000</td>\n",
       "      <td>0.000000</td>\n",
       "      <td>0.000000</td>\n",
       "      <td>1348</td>\n",
       "      <td>369</td>\n",
       "    </tr>\n",
       "    <tr>\n",
       "      <th>4</th>\n",
       "      <td>D. Odonkor</td>\n",
       "      <td>27</td>\n",
       "      <td>66</td>\n",
       "      <td>Germany</td>\n",
       "      <td>RW</td>\n",
       "      <td>70</td>\n",
       "      <td>68.0</td>\n",
       "      <td>163</td>\n",
       "      <td>Right</td>\n",
       "      <td>851.469318</td>\n",
       "      <td>70.710678</td>\n",
       "      <td>0.000000</td>\n",
       "      <td>1649</td>\n",
       "      <td>360</td>\n",
       "    </tr>\n",
       "  </tbody>\n",
       "</table>\n",
       "</div>"
      ],
      "text/plain": [
       "          Name  Age  OVA            Nationality   BP  POT  Height  Weight  \\\n",
       "0  G. Pasquale   33   69                  Italy  LWB   69    72.0     181   \n",
       "1  Luis García   37   71                  Spain   CM   71    70.0     143   \n",
       "2      J. Cole   33   71                England  CAM   71    69.0     161   \n",
       "3     D. Yorke   36   68  Trinidad &amp; Tobago   ST   82    71.0     165   \n",
       "4   D. Odonkor   27   66                Germany   RW   70    68.0     163   \n",
       "\n",
       "    foot        Value        Wage  Release Clause  Total Stats  Base Stats  \n",
       "0   Left   790.569415   83.666003        0.000000         1929         408  \n",
       "1  Right   774.596669   83.666003     1048.808848         1906         385  \n",
       "2  Right  1048.808848  122.474487        0.000000         1770         354  \n",
       "3  Right     0.000000    0.000000        0.000000         1348         369  \n",
       "4  Right   851.469318   70.710678        0.000000         1649         360  "
      ]
     },
     "execution_count": 61,
     "metadata": {},
     "output_type": "execute_result"
    }
   ],
   "source": [
    "pd.set_option('display.max_columns', None)\n",
    "pd.set_option('display.max_rows', None)\n",
    "data.head()"
   ]
  },
  {
   "cell_type": "code",
   "execution_count": 62,
   "id": "8b22a104",
   "metadata": {},
   "outputs": [
    {
     "data": {
      "text/plain": [
       "Index(['Name', 'Age', 'OVA', 'Nationality', 'BP', 'POT', 'Height', 'Weight',\n",
       "       'foot', 'Value', 'Wage', 'Release Clause', 'Total Stats', 'Base Stats'],\n",
       "      dtype='object')"
      ]
     },
     "execution_count": 62,
     "metadata": {},
     "output_type": "execute_result"
    }
   ],
   "source": [
    "data.columns\n"
   ]
  },
  {
   "cell_type": "code",
   "execution_count": 5,
   "id": "3381cd0c",
   "metadata": {},
   "outputs": [],
   "source": [
    "#dropping all the far right position stats cols and gender col. stats not needed and gender is all male\n",
    "data = data.drop(data.loc[:, 'LS':'Gender'].columns, axis=1)\n",
    "\n",
    "#Droppign superfluos identifier col\n",
    "data = data.drop('ID', axis = 1)\n",
    "\n",
    "# Dropping Club as not needed and makes too many unique values\n",
    "data = data.drop('Club', axis = 1)\n",
    "\n",
    "# Droping A/W and D/W cols because unknown data\n",
    "data = data.drop(['A/W', 'D/W'], axis = 1)\n",
    "\n",
    "#Dropping all individual stat columns. Total Stats col rep[resents sum of these\n",
    "data = data.drop(data.loc[:, 'Attacking':'GK Reflexes'].columns,axis=1 )\n",
    "data = data.drop(data.loc[:, 'PAC':'Hits'].columns,axis=1)\n",
    "\n",
    "# Droping cols with irregular characters. Stars in this case\n",
    "data = data.drop(['W/F', 'SM', 'IR'], axis = 1)\n",
    "\n",
    "# Dropping image files cols\n",
    "data = data.drop(['Player Photo', 'Club Logo', 'Flag Photo'], axis = 1)\n",
    "\n",
    "#loan end dropped due to high na %, position dropped due to null count and redundancy ('BP' is best position, Position is not necessary)\n",
    "data = data.drop(['Loan Date End', 'Position'], axis = 1)\n",
    "\n",
    "#dropping contract cols\n",
    "data = data.drop(['Team & Contract', 'Contract'], axis=1)\n"
   ]
  },
  {
   "cell_type": "code",
   "execution_count": null,
   "id": "ec8fca75",
   "metadata": {},
   "outputs": [],
   "source": []
  },
  {
   "cell_type": "code",
   "execution_count": 6,
   "id": "3dec3197",
   "metadata": {},
   "outputs": [
    {
     "data": {
      "text/plain": [
       "Index(['Name', 'Age', 'OVA', 'Nationality', 'BOV', 'BP', 'POT', 'Height',\n",
       "       'Weight', 'foot', 'Growth', 'Value', 'Wage', 'Release Clause',\n",
       "       'Total Stats', 'Base Stats'],\n",
       "      dtype='object')"
      ]
     },
     "execution_count": 6,
     "metadata": {},
     "output_type": "execute_result"
    }
   ],
   "source": [
    "data.columns"
   ]
  },
  {
   "cell_type": "code",
   "execution_count": 7,
   "id": "8d8236cc",
   "metadata": {},
   "outputs": [
    {
     "data": {
      "text/html": [
       "<div>\n",
       "<style scoped>\n",
       "    .dataframe tbody tr th:only-of-type {\n",
       "        vertical-align: middle;\n",
       "    }\n",
       "\n",
       "    .dataframe tbody tr th {\n",
       "        vertical-align: top;\n",
       "    }\n",
       "\n",
       "    .dataframe thead th {\n",
       "        text-align: right;\n",
       "    }\n",
       "</style>\n",
       "<table border=\"1\" class=\"dataframe\">\n",
       "  <thead>\n",
       "    <tr style=\"text-align: right;\">\n",
       "      <th></th>\n",
       "      <th>Name</th>\n",
       "      <th>Age</th>\n",
       "      <th>OVA</th>\n",
       "      <th>Nationality</th>\n",
       "      <th>BOV</th>\n",
       "      <th>BP</th>\n",
       "      <th>POT</th>\n",
       "      <th>Height</th>\n",
       "      <th>Weight</th>\n",
       "      <th>foot</th>\n",
       "      <th>Growth</th>\n",
       "      <th>Value</th>\n",
       "      <th>Wage</th>\n",
       "      <th>Release Clause</th>\n",
       "      <th>Total Stats</th>\n",
       "      <th>Base Stats</th>\n",
       "    </tr>\n",
       "  </thead>\n",
       "  <tbody>\n",
       "    <tr>\n",
       "      <th>0</th>\n",
       "      <td>G. Pasquale</td>\n",
       "      <td>33</td>\n",
       "      <td>69</td>\n",
       "      <td>Italy</td>\n",
       "      <td>71</td>\n",
       "      <td>LWB</td>\n",
       "      <td>69</td>\n",
       "      <td>6'0\"</td>\n",
       "      <td>181lbs</td>\n",
       "      <td>Left</td>\n",
       "      <td>0</td>\n",
       "      <td>€625K</td>\n",
       "      <td>€7K</td>\n",
       "      <td>€0</td>\n",
       "      <td>1929</td>\n",
       "      <td>408</td>\n",
       "    </tr>\n",
       "    <tr>\n",
       "      <th>1</th>\n",
       "      <td>Luis García</td>\n",
       "      <td>37</td>\n",
       "      <td>71</td>\n",
       "      <td>Spain</td>\n",
       "      <td>70</td>\n",
       "      <td>CM</td>\n",
       "      <td>71</td>\n",
       "      <td>5'10\"</td>\n",
       "      <td>143lbs</td>\n",
       "      <td>Right</td>\n",
       "      <td>0</td>\n",
       "      <td>€600K</td>\n",
       "      <td>€7K</td>\n",
       "      <td>€1.1M</td>\n",
       "      <td>1906</td>\n",
       "      <td>385</td>\n",
       "    </tr>\n",
       "    <tr>\n",
       "      <th>2</th>\n",
       "      <td>J. Cole</td>\n",
       "      <td>33</td>\n",
       "      <td>71</td>\n",
       "      <td>England</td>\n",
       "      <td>71</td>\n",
       "      <td>CAM</td>\n",
       "      <td>71</td>\n",
       "      <td>5'9\"</td>\n",
       "      <td>161lbs</td>\n",
       "      <td>Right</td>\n",
       "      <td>0</td>\n",
       "      <td>€1.1M</td>\n",
       "      <td>€15K</td>\n",
       "      <td>€0</td>\n",
       "      <td>1770</td>\n",
       "      <td>354</td>\n",
       "    </tr>\n",
       "    <tr>\n",
       "      <th>3</th>\n",
       "      <td>D. Yorke</td>\n",
       "      <td>36</td>\n",
       "      <td>68</td>\n",
       "      <td>Trinidad &amp;amp; Tobago</td>\n",
       "      <td>70</td>\n",
       "      <td>ST</td>\n",
       "      <td>82</td>\n",
       "      <td>5'11\"</td>\n",
       "      <td>165lbs</td>\n",
       "      <td>Right</td>\n",
       "      <td>14</td>\n",
       "      <td>€0</td>\n",
       "      <td>€0</td>\n",
       "      <td>€0</td>\n",
       "      <td>1348</td>\n",
       "      <td>369</td>\n",
       "    </tr>\n",
       "    <tr>\n",
       "      <th>4</th>\n",
       "      <td>Iniesta</td>\n",
       "      <td>36</td>\n",
       "      <td>81</td>\n",
       "      <td>Spain</td>\n",
       "      <td>82</td>\n",
       "      <td>CAM</td>\n",
       "      <td>81</td>\n",
       "      <td>5'7\"</td>\n",
       "      <td>150lbs</td>\n",
       "      <td>Right</td>\n",
       "      <td>0</td>\n",
       "      <td>€5.5M</td>\n",
       "      <td>€12K</td>\n",
       "      <td>€7.2M</td>\n",
       "      <td>2014</td>\n",
       "      <td>420</td>\n",
       "    </tr>\n",
       "  </tbody>\n",
       "</table>\n",
       "</div>"
      ],
      "text/plain": [
       "          Name  Age  OVA            Nationality  BOV   BP  POT Height  Weight  \\\n",
       "0  G. Pasquale   33   69                  Italy   71  LWB   69   6'0\"  181lbs   \n",
       "1  Luis García   37   71                  Spain   70   CM   71  5'10\"  143lbs   \n",
       "2      J. Cole   33   71                England   71  CAM   71   5'9\"  161lbs   \n",
       "3     D. Yorke   36   68  Trinidad &amp; Tobago   70   ST   82  5'11\"  165lbs   \n",
       "4      Iniesta   36   81                  Spain   82  CAM   81   5'7\"  150lbs   \n",
       "\n",
       "    foot  Growth  Value  Wage Release Clause  Total Stats  Base Stats  \n",
       "0   Left       0  €625K   €7K             €0         1929         408  \n",
       "1  Right       0  €600K   €7K          €1.1M         1906         385  \n",
       "2  Right       0  €1.1M  €15K             €0         1770         354  \n",
       "3  Right      14     €0    €0             €0         1348         369  \n",
       "4  Right       0  €5.5M  €12K          €7.2M         2014         420  "
      ]
     },
     "execution_count": 7,
     "metadata": {},
     "output_type": "execute_result"
    }
   ],
   "source": [
    "data.head()"
   ]
  },
  {
   "cell_type": "code",
   "execution_count": 8,
   "id": "408a1282",
   "metadata": {},
   "outputs": [
    {
     "data": {
      "text/plain": [
       " 0     5741\n",
       " 1     1002\n",
       " 3      976\n",
       " 5      874\n",
       " 7      836\n",
       " 9      784\n",
       " 6      772\n",
       " 8      733\n",
       " 10     623\n",
       " 11     598\n",
       " 4      587\n",
       " 2      559\n",
       " 14     497\n",
       " 12     481\n",
       " 13     436\n",
       " 15     409\n",
       " 16     298\n",
       " 17     279\n",
       " 18     190\n",
       " 20     186\n",
       " 19     126\n",
       " 21      46\n",
       " 22      40\n",
       " 23      27\n",
       " 24      13\n",
       " 25       8\n",
       " 26       3\n",
       "-1        1\n",
       "Name: Growth, dtype: int64"
      ]
     },
     "execution_count": 8,
     "metadata": {},
     "output_type": "execute_result"
    }
   ],
   "source": [
    "data['Growth'].value_counts()"
   ]
  },
  {
   "cell_type": "code",
   "execution_count": 9,
   "id": "0a24c4c7",
   "metadata": {},
   "outputs": [],
   "source": [
    "#Dropping 'Growth' col. Data is unknown, values are mostly 0\n",
    "data=data.drop('Growth', axis=1)"
   ]
  },
  {
   "cell_type": "code",
   "execution_count": 10,
   "id": "a4a6fd64",
   "metadata": {},
   "outputs": [
    {
     "data": {
      "text/plain": [
       "€0        1785\n",
       "€1.1M      525\n",
       "€1.2M      441\n",
       "€1.3M      421\n",
       "€1.4M      389\n",
       "          ... \n",
       "€87M         1\n",
       "€49.5M       1\n",
       "€70.9M       1\n",
       "€49.8M       1\n",
       "€367K        1\n",
       "Name: Release Clause, Length: 1200, dtype: int64"
      ]
     },
     "execution_count": 10,
     "metadata": {},
     "output_type": "execute_result"
    }
   ],
   "source": [
    "data['Release Clause'].value_counts()"
   ]
  },
  {
   "cell_type": "code",
   "execution_count": null,
   "id": "7b1df6a7",
   "metadata": {},
   "outputs": [],
   "source": []
  },
  {
   "cell_type": "code",
   "execution_count": 11,
   "id": "9b4e7bcc",
   "metadata": {
    "scrolled": true
   },
   "outputs": [
    {
     "data": {
      "text/plain": [
       "(17125, 15)"
      ]
     },
     "execution_count": 11,
     "metadata": {},
     "output_type": "execute_result"
    }
   ],
   "source": [
    "data.shape"
   ]
  },
  {
   "cell_type": "code",
   "execution_count": 12,
   "id": "4ff0b506",
   "metadata": {},
   "outputs": [
    {
     "data": {
      "text/plain": [
       "Name              0.0\n",
       "Age               0.0\n",
       "OVA               0.0\n",
       "Nationality       0.0\n",
       "BOV               0.0\n",
       "BP                0.0\n",
       "POT               0.0\n",
       "Height            0.0\n",
       "Weight            0.0\n",
       "foot              0.0\n",
       "Value             0.0\n",
       "Wage              0.0\n",
       "Release Clause    0.0\n",
       "Total Stats       0.0\n",
       "Base Stats        0.0\n",
       "dtype: float64"
      ]
     },
     "execution_count": 12,
     "metadata": {},
     "output_type": "execute_result"
    }
   ],
   "source": [
    "#Checking for nulls. Low amounts will be corrected. Very high amounts will be dropped cols\n",
    "pd.set_option('display.max_rows', None)\n",
    "data.isna().sum()/len(data)*100 \n"
   ]
  },
  {
   "cell_type": "code",
   "execution_count": 13,
   "id": "f96d9d81",
   "metadata": {},
   "outputs": [],
   "source": [
    "## Converting n/a's with mean values by position using groupby. \n",
    "# # ie mean Volleys of CM position will fill any n/a volleys of CM players\n",
    "\n",
    "# #Check groupby results\n",
    "# data.groupby('BP')['Volleys'].mean()\n",
    "\n",
    "# #Test method on single col\n",
    "# data['Volleys'] = data['Volleys'].fillna(data.groupby('BP')['Volleys'].transform('mean'))\n",
    "\n",
    "\n",
    "# #make a list of the cols to iterate this over\n",
    "# colswna = ['Volleys', 'Curve', 'Agility', 'Balance', 'Jumping',\n",
    "#                'Interceptions', 'Positioning', 'Vision', 'Composure', 'Sliding Tackle']\n",
    "# for col in colswna:\n",
    "#     data[colswna] = data[colswna].fillna(data.groupby('BP')[colswna].transform('mean'))\n",
    "\n",
    "\n",
    "###### I ultimately dropped all of these stat columns that this method was devised to fix \n",
    "######becuase there were just too many columns in the df to work with further down the line. \n",
    "######I was really pleased with this method though so I'm keeping it here"
   ]
  },
  {
   "cell_type": "code",
   "execution_count": null,
   "id": "0f6800d8",
   "metadata": {},
   "outputs": [],
   "source": []
  },
  {
   "cell_type": "code",
   "execution_count": null,
   "id": "00508d54",
   "metadata": {},
   "outputs": [],
   "source": []
  },
  {
   "cell_type": "code",
   "execution_count": 14,
   "id": "fc03e0e0",
   "metadata": {},
   "outputs": [
    {
     "data": {
      "text/plain": [
       "Name              0.0\n",
       "Age               0.0\n",
       "OVA               0.0\n",
       "Nationality       0.0\n",
       "BOV               0.0\n",
       "BP                0.0\n",
       "POT               0.0\n",
       "Height            0.0\n",
       "Weight            0.0\n",
       "foot              0.0\n",
       "Value             0.0\n",
       "Wage              0.0\n",
       "Release Clause    0.0\n",
       "Total Stats       0.0\n",
       "Base Stats        0.0\n",
       "dtype: float64"
      ]
     },
     "execution_count": 14,
     "metadata": {},
     "output_type": "execute_result"
    }
   ],
   "source": [
    "data.isna().sum()/len(data)*100 \n"
   ]
  },
  {
   "cell_type": "code",
   "execution_count": 15,
   "id": "c50543cc",
   "metadata": {},
   "outputs": [
    {
     "data": {
      "text/html": [
       "<div>\n",
       "<style scoped>\n",
       "    .dataframe tbody tr th:only-of-type {\n",
       "        vertical-align: middle;\n",
       "    }\n",
       "\n",
       "    .dataframe tbody tr th {\n",
       "        vertical-align: top;\n",
       "    }\n",
       "\n",
       "    .dataframe thead th {\n",
       "        text-align: right;\n",
       "    }\n",
       "</style>\n",
       "<table border=\"1\" class=\"dataframe\">\n",
       "  <thead>\n",
       "    <tr style=\"text-align: right;\">\n",
       "      <th></th>\n",
       "      <th>Name</th>\n",
       "      <th>Age</th>\n",
       "      <th>OVA</th>\n",
       "      <th>Nationality</th>\n",
       "      <th>BOV</th>\n",
       "      <th>BP</th>\n",
       "      <th>POT</th>\n",
       "      <th>Height</th>\n",
       "      <th>Weight</th>\n",
       "      <th>foot</th>\n",
       "      <th>Value</th>\n",
       "      <th>Wage</th>\n",
       "      <th>Release Clause</th>\n",
       "      <th>Total Stats</th>\n",
       "      <th>Base Stats</th>\n",
       "    </tr>\n",
       "  </thead>\n",
       "  <tbody>\n",
       "    <tr>\n",
       "      <th>0</th>\n",
       "      <td>G. Pasquale</td>\n",
       "      <td>33</td>\n",
       "      <td>69</td>\n",
       "      <td>Italy</td>\n",
       "      <td>71</td>\n",
       "      <td>LWB</td>\n",
       "      <td>69</td>\n",
       "      <td>6'0\"</td>\n",
       "      <td>181lbs</td>\n",
       "      <td>Left</td>\n",
       "      <td>€625K</td>\n",
       "      <td>€7K</td>\n",
       "      <td>€0</td>\n",
       "      <td>1929</td>\n",
       "      <td>408</td>\n",
       "    </tr>\n",
       "    <tr>\n",
       "      <th>1</th>\n",
       "      <td>Luis García</td>\n",
       "      <td>37</td>\n",
       "      <td>71</td>\n",
       "      <td>Spain</td>\n",
       "      <td>70</td>\n",
       "      <td>CM</td>\n",
       "      <td>71</td>\n",
       "      <td>5'10\"</td>\n",
       "      <td>143lbs</td>\n",
       "      <td>Right</td>\n",
       "      <td>€600K</td>\n",
       "      <td>€7K</td>\n",
       "      <td>€1.1M</td>\n",
       "      <td>1906</td>\n",
       "      <td>385</td>\n",
       "    </tr>\n",
       "    <tr>\n",
       "      <th>2</th>\n",
       "      <td>J. Cole</td>\n",
       "      <td>33</td>\n",
       "      <td>71</td>\n",
       "      <td>England</td>\n",
       "      <td>71</td>\n",
       "      <td>CAM</td>\n",
       "      <td>71</td>\n",
       "      <td>5'9\"</td>\n",
       "      <td>161lbs</td>\n",
       "      <td>Right</td>\n",
       "      <td>€1.1M</td>\n",
       "      <td>€15K</td>\n",
       "      <td>€0</td>\n",
       "      <td>1770</td>\n",
       "      <td>354</td>\n",
       "    </tr>\n",
       "    <tr>\n",
       "      <th>3</th>\n",
       "      <td>D. Yorke</td>\n",
       "      <td>36</td>\n",
       "      <td>68</td>\n",
       "      <td>Trinidad &amp;amp; Tobago</td>\n",
       "      <td>70</td>\n",
       "      <td>ST</td>\n",
       "      <td>82</td>\n",
       "      <td>5'11\"</td>\n",
       "      <td>165lbs</td>\n",
       "      <td>Right</td>\n",
       "      <td>€0</td>\n",
       "      <td>€0</td>\n",
       "      <td>€0</td>\n",
       "      <td>1348</td>\n",
       "      <td>369</td>\n",
       "    </tr>\n",
       "    <tr>\n",
       "      <th>4</th>\n",
       "      <td>Iniesta</td>\n",
       "      <td>36</td>\n",
       "      <td>81</td>\n",
       "      <td>Spain</td>\n",
       "      <td>82</td>\n",
       "      <td>CAM</td>\n",
       "      <td>81</td>\n",
       "      <td>5'7\"</td>\n",
       "      <td>150lbs</td>\n",
       "      <td>Right</td>\n",
       "      <td>€5.5M</td>\n",
       "      <td>€12K</td>\n",
       "      <td>€7.2M</td>\n",
       "      <td>2014</td>\n",
       "      <td>420</td>\n",
       "    </tr>\n",
       "  </tbody>\n",
       "</table>\n",
       "</div>"
      ],
      "text/plain": [
       "          Name  Age  OVA            Nationality  BOV   BP  POT Height  Weight  \\\n",
       "0  G. Pasquale   33   69                  Italy   71  LWB   69   6'0\"  181lbs   \n",
       "1  Luis García   37   71                  Spain   70   CM   71  5'10\"  143lbs   \n",
       "2      J. Cole   33   71                England   71  CAM   71   5'9\"  161lbs   \n",
       "3     D. Yorke   36   68  Trinidad &amp; Tobago   70   ST   82  5'11\"  165lbs   \n",
       "4      Iniesta   36   81                  Spain   82  CAM   81   5'7\"  150lbs   \n",
       "\n",
       "    foot  Value  Wage Release Clause  Total Stats  Base Stats  \n",
       "0   Left  €625K   €7K             €0         1929         408  \n",
       "1  Right  €600K   €7K          €1.1M         1906         385  \n",
       "2  Right  €1.1M  €15K             €0         1770         354  \n",
       "3  Right     €0    €0             €0         1348         369  \n",
       "4  Right  €5.5M  €12K          €7.2M         2014         420  "
      ]
     },
     "execution_count": 15,
     "metadata": {},
     "output_type": "execute_result"
    }
   ],
   "source": [
    "data.head()"
   ]
  },
  {
   "cell_type": "code",
   "execution_count": 16,
   "id": "77771bce",
   "metadata": {},
   "outputs": [
    {
     "data": {
      "text/plain": [
       "(17125, 15)"
      ]
     },
     "execution_count": 16,
     "metadata": {},
     "output_type": "execute_result"
    }
   ],
   "source": [
    "data.shape"
   ]
  },
  {
   "cell_type": "code",
   "execution_count": 17,
   "id": "379be219",
   "metadata": {
    "scrolled": false
   },
   "outputs": [
    {
     "data": {
      "text/plain": [
       "Name              object\n",
       "Age                int64\n",
       "OVA                int64\n",
       "Nationality       object\n",
       "BOV                int64\n",
       "BP                object\n",
       "POT                int64\n",
       "Height            object\n",
       "Weight            object\n",
       "foot              object\n",
       "Value             object\n",
       "Wage              object\n",
       "Release Clause    object\n",
       "Total Stats        int64\n",
       "Base Stats         int64\n",
       "dtype: object"
      ]
     },
     "execution_count": 17,
     "metadata": {},
     "output_type": "execute_result"
    }
   ],
   "source": [
    "#Checking and correcting data types\n",
    "data.dtypes"
   ]
  },
  {
   "cell_type": "code",
   "execution_count": 18,
   "id": "6d1e7fed",
   "metadata": {},
   "outputs": [],
   "source": [
    "# Definign a function to clean and convert Height and Weight columns \n",
    "def fix_height(ht):\n",
    "    \n",
    "    ht_ = ht.split(\"'\")\n",
    "    ft_ = float(ht_[0])\n",
    "    in_ = float(ht_[1].replace('\"',''))\n",
    "    return (12*ft_) + in_\n",
    "\n",
    "data['Height'] = data['Height'].apply(lambda x:fix_height(x))"
   ]
  },
  {
   "cell_type": "code",
   "execution_count": 19,
   "id": "792d6ce7",
   "metadata": {},
   "outputs": [
    {
     "data": {
      "text/plain": [
       "dtype('float64')"
      ]
     },
     "execution_count": 19,
     "metadata": {},
     "output_type": "execute_result"
    }
   ],
   "source": [
    "data[\"Height\"].dtypes"
   ]
  },
  {
   "cell_type": "code",
   "execution_count": 20,
   "id": "c600a0c4",
   "metadata": {},
   "outputs": [],
   "source": [
    "def clean_weight(wt):\n",
    "    wt_ = wt.replace('lbs','')\n",
    "    wt_int = int(wt_)\n",
    "    return wt_int\n",
    "\n",
    "data['Weight'] = data['Weight'].apply(lambda x:clean_weight(x))"
   ]
  },
  {
   "cell_type": "code",
   "execution_count": 21,
   "id": "3a1a0e4f",
   "metadata": {},
   "outputs": [
    {
     "data": {
      "text/plain": [
       "dtype('int64')"
      ]
     },
     "execution_count": 21,
     "metadata": {},
     "output_type": "execute_result"
    }
   ],
   "source": [
    "data['Weight'].dtypes"
   ]
  },
  {
   "cell_type": "code",
   "execution_count": 22,
   "id": "bd3e2122",
   "metadata": {},
   "outputs": [],
   "source": [
    "# Converting 'Value' 'Wage' and 'Release Clause'"
   ]
  },
  {
   "cell_type": "code",
   "execution_count": 23,
   "id": "eb4a3b1c",
   "metadata": {},
   "outputs": [],
   "source": [
    "def money_launder(mon):\n",
    "    clmon = mon[1:]\n",
    "    if clmon[-1] == 'K':\n",
    "        clmon = clmon[:-1]\n",
    "        clmon = float(clmon)\n",
    "        clmon = clmon*1000\n",
    "    elif clmon[-1] == 'M':\n",
    "        clmon = clmon[:-1]\n",
    "        clmon = float(clmon)\n",
    "        clmon = clmon*1000000\n",
    "    return clmon\n"
   ]
  },
  {
   "cell_type": "code",
   "execution_count": 24,
   "id": "3b72bf7c",
   "metadata": {},
   "outputs": [],
   "source": [
    "data['Value'] = data['Value'].apply(lambda x:money_launder(x))\n",
    "data['Value'] = pd.to_numeric(data['Value'], errors = 'coerce')"
   ]
  },
  {
   "cell_type": "code",
   "execution_count": 25,
   "id": "5a4f5c68",
   "metadata": {},
   "outputs": [
    {
     "data": {
      "text/plain": [
       "dtype('float64')"
      ]
     },
     "execution_count": 25,
     "metadata": {},
     "output_type": "execute_result"
    }
   ],
   "source": [
    "data['Value'].dtype"
   ]
  },
  {
   "cell_type": "code",
   "execution_count": 26,
   "id": "9c7e3776",
   "metadata": {},
   "outputs": [],
   "source": [
    "data['Wage'] = data['Wage'].apply(lambda x:money_launder(x))\n",
    "data['Wage'] = pd.to_numeric(data['Wage'], errors = 'coerce')"
   ]
  },
  {
   "cell_type": "code",
   "execution_count": 27,
   "id": "d5e1792d",
   "metadata": {},
   "outputs": [],
   "source": [
    "data['Release Clause'] = data['Release Clause'].apply(lambda x:money_launder(x))\n",
    "data['Release Clause'] = pd.to_numeric(data['Release Clause'], errors = 'coerce')"
   ]
  },
  {
   "cell_type": "code",
   "execution_count": 28,
   "id": "aeec1b92",
   "metadata": {},
   "outputs": [],
   "source": [
    "# Trying to clean the 'Hits' column. Some values are listed at eg 1.1k instead of 1100. \n",
    "# When the function is called receive error \"'int' object is not subscriptable\" traced back to \"if hit[-1]=='K':\"\n",
    "# Check type of data and is type sting \"type(data.Hits[0])\"  returns \"str\" so subscripting shoukld work??\n",
    "### Column was later dropped with other stats above\n",
    "\n",
    "#data['Hits'].value_counts()\n",
    "\n",
    "# def clean_hits(hit):\n",
    "#     if hit[-1]=='K':\n",
    "#         hit = hit[:-1]\n",
    "#         hit = hit.split(\".\")\n",
    "#         hi = float(hit[0])\n",
    "#         hi_ = hi*1000\n",
    "#         ts = float(hit[-1])\n",
    "#         ts_ = ts*100\n",
    "#         hit = hi_ + ts_\n",
    "#         return hit\n",
    "#     else:\n",
    "#         return hit\n",
    "\n",
    "\n",
    "# data['Hits'] = data['Hits'].apply(lambda x:clean_hits(x)) \n",
    "\n",
    "\n"
   ]
  },
  {
   "cell_type": "code",
   "execution_count": 29,
   "id": "e99f935e",
   "metadata": {},
   "outputs": [
    {
     "data": {
      "text/html": [
       "<div>\n",
       "<style scoped>\n",
       "    .dataframe tbody tr th:only-of-type {\n",
       "        vertical-align: middle;\n",
       "    }\n",
       "\n",
       "    .dataframe tbody tr th {\n",
       "        vertical-align: top;\n",
       "    }\n",
       "\n",
       "    .dataframe thead th {\n",
       "        text-align: right;\n",
       "    }\n",
       "</style>\n",
       "<table border=\"1\" class=\"dataframe\">\n",
       "  <thead>\n",
       "    <tr style=\"text-align: right;\">\n",
       "      <th></th>\n",
       "      <th>Name</th>\n",
       "      <th>Age</th>\n",
       "      <th>OVA</th>\n",
       "      <th>Nationality</th>\n",
       "      <th>BOV</th>\n",
       "      <th>BP</th>\n",
       "      <th>POT</th>\n",
       "      <th>Height</th>\n",
       "      <th>Weight</th>\n",
       "      <th>foot</th>\n",
       "      <th>Value</th>\n",
       "      <th>Wage</th>\n",
       "      <th>Release Clause</th>\n",
       "      <th>Total Stats</th>\n",
       "      <th>Base Stats</th>\n",
       "    </tr>\n",
       "  </thead>\n",
       "  <tbody>\n",
       "    <tr>\n",
       "      <th>0</th>\n",
       "      <td>G. Pasquale</td>\n",
       "      <td>33</td>\n",
       "      <td>69</td>\n",
       "      <td>Italy</td>\n",
       "      <td>71</td>\n",
       "      <td>LWB</td>\n",
       "      <td>69</td>\n",
       "      <td>72.0</td>\n",
       "      <td>181</td>\n",
       "      <td>Left</td>\n",
       "      <td>625000.0</td>\n",
       "      <td>7000.0</td>\n",
       "      <td>0.0</td>\n",
       "      <td>1929</td>\n",
       "      <td>408</td>\n",
       "    </tr>\n",
       "    <tr>\n",
       "      <th>1</th>\n",
       "      <td>Luis García</td>\n",
       "      <td>37</td>\n",
       "      <td>71</td>\n",
       "      <td>Spain</td>\n",
       "      <td>70</td>\n",
       "      <td>CM</td>\n",
       "      <td>71</td>\n",
       "      <td>70.0</td>\n",
       "      <td>143</td>\n",
       "      <td>Right</td>\n",
       "      <td>600000.0</td>\n",
       "      <td>7000.0</td>\n",
       "      <td>1100000.0</td>\n",
       "      <td>1906</td>\n",
       "      <td>385</td>\n",
       "    </tr>\n",
       "    <tr>\n",
       "      <th>2</th>\n",
       "      <td>J. Cole</td>\n",
       "      <td>33</td>\n",
       "      <td>71</td>\n",
       "      <td>England</td>\n",
       "      <td>71</td>\n",
       "      <td>CAM</td>\n",
       "      <td>71</td>\n",
       "      <td>69.0</td>\n",
       "      <td>161</td>\n",
       "      <td>Right</td>\n",
       "      <td>1100000.0</td>\n",
       "      <td>15000.0</td>\n",
       "      <td>0.0</td>\n",
       "      <td>1770</td>\n",
       "      <td>354</td>\n",
       "    </tr>\n",
       "    <tr>\n",
       "      <th>3</th>\n",
       "      <td>D. Yorke</td>\n",
       "      <td>36</td>\n",
       "      <td>68</td>\n",
       "      <td>Trinidad &amp;amp; Tobago</td>\n",
       "      <td>70</td>\n",
       "      <td>ST</td>\n",
       "      <td>82</td>\n",
       "      <td>71.0</td>\n",
       "      <td>165</td>\n",
       "      <td>Right</td>\n",
       "      <td>0.0</td>\n",
       "      <td>0.0</td>\n",
       "      <td>0.0</td>\n",
       "      <td>1348</td>\n",
       "      <td>369</td>\n",
       "    </tr>\n",
       "    <tr>\n",
       "      <th>4</th>\n",
       "      <td>Iniesta</td>\n",
       "      <td>36</td>\n",
       "      <td>81</td>\n",
       "      <td>Spain</td>\n",
       "      <td>82</td>\n",
       "      <td>CAM</td>\n",
       "      <td>81</td>\n",
       "      <td>67.0</td>\n",
       "      <td>150</td>\n",
       "      <td>Right</td>\n",
       "      <td>5500000.0</td>\n",
       "      <td>12000.0</td>\n",
       "      <td>7200000.0</td>\n",
       "      <td>2014</td>\n",
       "      <td>420</td>\n",
       "    </tr>\n",
       "  </tbody>\n",
       "</table>\n",
       "</div>"
      ],
      "text/plain": [
       "          Name  Age  OVA            Nationality  BOV   BP  POT  Height  \\\n",
       "0  G. Pasquale   33   69                  Italy   71  LWB   69    72.0   \n",
       "1  Luis García   37   71                  Spain   70   CM   71    70.0   \n",
       "2      J. Cole   33   71                England   71  CAM   71    69.0   \n",
       "3     D. Yorke   36   68  Trinidad &amp; Tobago   70   ST   82    71.0   \n",
       "4      Iniesta   36   81                  Spain   82  CAM   81    67.0   \n",
       "\n",
       "   Weight   foot      Value     Wage  Release Clause  Total Stats  Base Stats  \n",
       "0     181   Left   625000.0   7000.0             0.0         1929         408  \n",
       "1     143  Right   600000.0   7000.0       1100000.0         1906         385  \n",
       "2     161  Right  1100000.0  15000.0             0.0         1770         354  \n",
       "3     165  Right        0.0      0.0             0.0         1348         369  \n",
       "4     150  Right  5500000.0  12000.0       7200000.0         2014         420  "
      ]
     },
     "execution_count": 29,
     "metadata": {},
     "output_type": "execute_result"
    }
   ],
   "source": [
    "data.head()"
   ]
  },
  {
   "cell_type": "code",
   "execution_count": 30,
   "id": "f9852d50",
   "metadata": {},
   "outputs": [
    {
     "data": {
      "text/plain": [
       "Right    12906\n",
       "Left      4219\n",
       "Name: foot, dtype: int64"
      ]
     },
     "execution_count": 30,
     "metadata": {},
     "output_type": "execute_result"
    }
   ],
   "source": [
    "# Checking column  for incorrect responses ie rihgt, letf, etc.\n",
    "data['foot'].value_counts()"
   ]
  },
  {
   "cell_type": "code",
   "execution_count": null,
   "id": "8ac5d5c0",
   "metadata": {},
   "outputs": [],
   "source": []
  },
  {
   "cell_type": "code",
   "execution_count": 31,
   "id": "24dbe936",
   "metadata": {},
   "outputs": [],
   "source": [
    "## EDA Phase"
   ]
  },
  {
   "cell_type": "code",
   "execution_count": 32,
   "id": "d9d5d0b4",
   "metadata": {},
   "outputs": [
    {
     "data": {
      "text/html": [
       "<div>\n",
       "<style scoped>\n",
       "    .dataframe tbody tr th:only-of-type {\n",
       "        vertical-align: middle;\n",
       "    }\n",
       "\n",
       "    .dataframe tbody tr th {\n",
       "        vertical-align: top;\n",
       "    }\n",
       "\n",
       "    .dataframe thead th {\n",
       "        text-align: right;\n",
       "    }\n",
       "</style>\n",
       "<table border=\"1\" class=\"dataframe\">\n",
       "  <thead>\n",
       "    <tr style=\"text-align: right;\">\n",
       "      <th></th>\n",
       "      <th>Age</th>\n",
       "      <th>OVA</th>\n",
       "      <th>BOV</th>\n",
       "      <th>POT</th>\n",
       "      <th>Height</th>\n",
       "      <th>Weight</th>\n",
       "      <th>Value</th>\n",
       "      <th>Wage</th>\n",
       "      <th>Release Clause</th>\n",
       "      <th>Total Stats</th>\n",
       "      <th>Base Stats</th>\n",
       "    </tr>\n",
       "  </thead>\n",
       "  <tbody>\n",
       "    <tr>\n",
       "      <th>count</th>\n",
       "      <td>17125.000000</td>\n",
       "      <td>17125.000000</td>\n",
       "      <td>17125.000000</td>\n",
       "      <td>17125.000000</td>\n",
       "      <td>17125.000000</td>\n",
       "      <td>17125.000000</td>\n",
       "      <td>1.712500e+04</td>\n",
       "      <td>17125.000000</td>\n",
       "      <td>1.712500e+04</td>\n",
       "      <td>17125.000000</td>\n",
       "      <td>17125.000000</td>\n",
       "    </tr>\n",
       "    <tr>\n",
       "      <th>mean</th>\n",
       "      <td>25.272934</td>\n",
       "      <td>66.965022</td>\n",
       "      <td>67.900204</td>\n",
       "      <td>72.489810</td>\n",
       "      <td>71.347620</td>\n",
       "      <td>165.658861</td>\n",
       "      <td>2.567377e+06</td>\n",
       "      <td>10532.928467</td>\n",
       "      <td>4.574445e+06</td>\n",
       "      <td>1631.256175</td>\n",
       "      <td>361.372146</td>\n",
       "    </tr>\n",
       "    <tr>\n",
       "      <th>std</th>\n",
       "      <td>4.942665</td>\n",
       "      <td>6.864329</td>\n",
       "      <td>6.637538</td>\n",
       "      <td>5.769949</td>\n",
       "      <td>2.711241</td>\n",
       "      <td>15.818185</td>\n",
       "      <td>5.372622e+06</td>\n",
       "      <td>21145.376646</td>\n",
       "      <td>1.033846e+07</td>\n",
       "      <td>260.357024</td>\n",
       "      <td>40.252290</td>\n",
       "    </tr>\n",
       "    <tr>\n",
       "      <th>min</th>\n",
       "      <td>16.000000</td>\n",
       "      <td>38.000000</td>\n",
       "      <td>42.000000</td>\n",
       "      <td>47.000000</td>\n",
       "      <td>61.000000</td>\n",
       "      <td>110.000000</td>\n",
       "      <td>0.000000e+00</td>\n",
       "      <td>0.000000</td>\n",
       "      <td>0.000000e+00</td>\n",
       "      <td>731.000000</td>\n",
       "      <td>228.000000</td>\n",
       "    </tr>\n",
       "    <tr>\n",
       "      <th>25%</th>\n",
       "      <td>21.000000</td>\n",
       "      <td>62.000000</td>\n",
       "      <td>64.000000</td>\n",
       "      <td>69.000000</td>\n",
       "      <td>69.000000</td>\n",
       "      <td>154.000000</td>\n",
       "      <td>3.750000e+05</td>\n",
       "      <td>1000.000000</td>\n",
       "      <td>5.080000e+05</td>\n",
       "      <td>1492.000000</td>\n",
       "      <td>333.000000</td>\n",
       "    </tr>\n",
       "    <tr>\n",
       "      <th>50%</th>\n",
       "      <td>25.000000</td>\n",
       "      <td>67.000000</td>\n",
       "      <td>68.000000</td>\n",
       "      <td>72.000000</td>\n",
       "      <td>71.000000</td>\n",
       "      <td>165.000000</td>\n",
       "      <td>8.000000e+05</td>\n",
       "      <td>3000.000000</td>\n",
       "      <td>1.300000e+06</td>\n",
       "      <td>1659.000000</td>\n",
       "      <td>362.000000</td>\n",
       "    </tr>\n",
       "    <tr>\n",
       "      <th>75%</th>\n",
       "      <td>29.000000</td>\n",
       "      <td>72.000000</td>\n",
       "      <td>72.000000</td>\n",
       "      <td>76.000000</td>\n",
       "      <td>73.000000</td>\n",
       "      <td>176.000000</td>\n",
       "      <td>2.400000e+06</td>\n",
       "      <td>11000.000000</td>\n",
       "      <td>3.900000e+06</td>\n",
       "      <td>1812.000000</td>\n",
       "      <td>390.000000</td>\n",
       "    </tr>\n",
       "    <tr>\n",
       "      <th>max</th>\n",
       "      <td>53.000000</td>\n",
       "      <td>93.000000</td>\n",
       "      <td>93.000000</td>\n",
       "      <td>95.000000</td>\n",
       "      <td>81.000000</td>\n",
       "      <td>243.000000</td>\n",
       "      <td>1.055000e+08</td>\n",
       "      <td>560000.000000</td>\n",
       "      <td>2.031000e+08</td>\n",
       "      <td>2316.000000</td>\n",
       "      <td>498.000000</td>\n",
       "    </tr>\n",
       "  </tbody>\n",
       "</table>\n",
       "</div>"
      ],
      "text/plain": [
       "                Age           OVA           BOV           POT        Height  \\\n",
       "count  17125.000000  17125.000000  17125.000000  17125.000000  17125.000000   \n",
       "mean      25.272934     66.965022     67.900204     72.489810     71.347620   \n",
       "std        4.942665      6.864329      6.637538      5.769949      2.711241   \n",
       "min       16.000000     38.000000     42.000000     47.000000     61.000000   \n",
       "25%       21.000000     62.000000     64.000000     69.000000     69.000000   \n",
       "50%       25.000000     67.000000     68.000000     72.000000     71.000000   \n",
       "75%       29.000000     72.000000     72.000000     76.000000     73.000000   \n",
       "max       53.000000     93.000000     93.000000     95.000000     81.000000   \n",
       "\n",
       "             Weight         Value           Wage  Release Clause  \\\n",
       "count  17125.000000  1.712500e+04   17125.000000    1.712500e+04   \n",
       "mean     165.658861  2.567377e+06   10532.928467    4.574445e+06   \n",
       "std       15.818185  5.372622e+06   21145.376646    1.033846e+07   \n",
       "min      110.000000  0.000000e+00       0.000000    0.000000e+00   \n",
       "25%      154.000000  3.750000e+05    1000.000000    5.080000e+05   \n",
       "50%      165.000000  8.000000e+05    3000.000000    1.300000e+06   \n",
       "75%      176.000000  2.400000e+06   11000.000000    3.900000e+06   \n",
       "max      243.000000  1.055000e+08  560000.000000    2.031000e+08   \n",
       "\n",
       "        Total Stats    Base Stats  \n",
       "count  17125.000000  17125.000000  \n",
       "mean    1631.256175    361.372146  \n",
       "std      260.357024     40.252290  \n",
       "min      731.000000    228.000000  \n",
       "25%     1492.000000    333.000000  \n",
       "50%     1659.000000    362.000000  \n",
       "75%     1812.000000    390.000000  \n",
       "max     2316.000000    498.000000  "
      ]
     },
     "execution_count": 32,
     "metadata": {},
     "output_type": "execute_result"
    }
   ],
   "source": [
    "data.describe()"
   ]
  },
  {
   "cell_type": "code",
   "execution_count": 33,
   "id": "97519447",
   "metadata": {},
   "outputs": [
    {
     "data": {
      "text/html": [
       "<div>\n",
       "<style scoped>\n",
       "    .dataframe tbody tr th:only-of-type {\n",
       "        vertical-align: middle;\n",
       "    }\n",
       "\n",
       "    .dataframe tbody tr th {\n",
       "        vertical-align: top;\n",
       "    }\n",
       "\n",
       "    .dataframe thead th {\n",
       "        text-align: right;\n",
       "    }\n",
       "</style>\n",
       "<table border=\"1\" class=\"dataframe\">\n",
       "  <thead>\n",
       "    <tr style=\"text-align: right;\">\n",
       "      <th></th>\n",
       "      <th>Age</th>\n",
       "      <th>OVA</th>\n",
       "      <th>BOV</th>\n",
       "      <th>POT</th>\n",
       "      <th>Height</th>\n",
       "      <th>Weight</th>\n",
       "      <th>Value</th>\n",
       "      <th>Wage</th>\n",
       "      <th>Release Clause</th>\n",
       "      <th>Total Stats</th>\n",
       "      <th>Base Stats</th>\n",
       "    </tr>\n",
       "  </thead>\n",
       "  <tbody>\n",
       "    <tr>\n",
       "      <th>Age</th>\n",
       "      <td>1.000000</td>\n",
       "      <td>0.517099</td>\n",
       "      <td>0.456734</td>\n",
       "      <td>-0.237619</td>\n",
       "      <td>0.092935</td>\n",
       "      <td>0.258682</td>\n",
       "      <td>0.095981</td>\n",
       "      <td>0.200851</td>\n",
       "      <td>0.075386</td>\n",
       "      <td>0.280383</td>\n",
       "      <td>0.414897</td>\n",
       "    </tr>\n",
       "    <tr>\n",
       "      <th>OVA</th>\n",
       "      <td>0.517099</td>\n",
       "      <td>1.000000</td>\n",
       "      <td>0.985877</td>\n",
       "      <td>0.592268</td>\n",
       "      <td>0.027077</td>\n",
       "      <td>0.151834</td>\n",
       "      <td>0.631679</td>\n",
       "      <td>0.592925</td>\n",
       "      <td>0.597617</td>\n",
       "      <td>0.607676</td>\n",
       "      <td>0.832618</td>\n",
       "    </tr>\n",
       "    <tr>\n",
       "      <th>BOV</th>\n",
       "      <td>0.456734</td>\n",
       "      <td>0.985877</td>\n",
       "      <td>1.000000</td>\n",
       "      <td>0.628323</td>\n",
       "      <td>0.015950</td>\n",
       "      <td>0.132560</td>\n",
       "      <td>0.640818</td>\n",
       "      <td>0.592453</td>\n",
       "      <td>0.608384</td>\n",
       "      <td>0.635037</td>\n",
       "      <td>0.830127</td>\n",
       "    </tr>\n",
       "    <tr>\n",
       "      <th>POT</th>\n",
       "      <td>-0.237619</td>\n",
       "      <td>0.592268</td>\n",
       "      <td>0.628323</td>\n",
       "      <td>1.000000</td>\n",
       "      <td>-0.021094</td>\n",
       "      <td>-0.039809</td>\n",
       "      <td>0.563570</td>\n",
       "      <td>0.462235</td>\n",
       "      <td>0.549201</td>\n",
       "      <td>0.329178</td>\n",
       "      <td>0.474763</td>\n",
       "    </tr>\n",
       "    <tr>\n",
       "      <th>Height</th>\n",
       "      <td>0.092935</td>\n",
       "      <td>0.027077</td>\n",
       "      <td>0.015950</td>\n",
       "      <td>-0.021094</td>\n",
       "      <td>1.000000</td>\n",
       "      <td>0.766072</td>\n",
       "      <td>-0.000407</td>\n",
       "      <td>0.020740</td>\n",
       "      <td>0.001362</td>\n",
       "      <td>-0.367699</td>\n",
       "      <td>-0.121205</td>\n",
       "    </tr>\n",
       "    <tr>\n",
       "      <th>Weight</th>\n",
       "      <td>0.258682</td>\n",
       "      <td>0.151834</td>\n",
       "      <td>0.132560</td>\n",
       "      <td>-0.039809</td>\n",
       "      <td>0.766072</td>\n",
       "      <td>1.000000</td>\n",
       "      <td>0.040257</td>\n",
       "      <td>0.068695</td>\n",
       "      <td>0.034724</td>\n",
       "      <td>-0.246410</td>\n",
       "      <td>0.005923</td>\n",
       "    </tr>\n",
       "    <tr>\n",
       "      <th>Value</th>\n",
       "      <td>0.095981</td>\n",
       "      <td>0.631679</td>\n",
       "      <td>0.640818</td>\n",
       "      <td>0.563570</td>\n",
       "      <td>-0.000407</td>\n",
       "      <td>0.040257</td>\n",
       "      <td>1.000000</td>\n",
       "      <td>0.822728</td>\n",
       "      <td>0.979295</td>\n",
       "      <td>0.393043</td>\n",
       "      <td>0.526843</td>\n",
       "    </tr>\n",
       "    <tr>\n",
       "      <th>Wage</th>\n",
       "      <td>0.200851</td>\n",
       "      <td>0.592925</td>\n",
       "      <td>0.592453</td>\n",
       "      <td>0.462235</td>\n",
       "      <td>0.020740</td>\n",
       "      <td>0.068695</td>\n",
       "      <td>0.822728</td>\n",
       "      <td>1.000000</td>\n",
       "      <td>0.798432</td>\n",
       "      <td>0.379345</td>\n",
       "      <td>0.479638</td>\n",
       "    </tr>\n",
       "    <tr>\n",
       "      <th>Release Clause</th>\n",
       "      <td>0.075386</td>\n",
       "      <td>0.597617</td>\n",
       "      <td>0.608384</td>\n",
       "      <td>0.549201</td>\n",
       "      <td>0.001362</td>\n",
       "      <td>0.034724</td>\n",
       "      <td>0.979295</td>\n",
       "      <td>0.798432</td>\n",
       "      <td>1.000000</td>\n",
       "      <td>0.368406</td>\n",
       "      <td>0.497094</td>\n",
       "    </tr>\n",
       "    <tr>\n",
       "      <th>Total Stats</th>\n",
       "      <td>0.280383</td>\n",
       "      <td>0.607676</td>\n",
       "      <td>0.635037</td>\n",
       "      <td>0.329178</td>\n",
       "      <td>-0.367699</td>\n",
       "      <td>-0.246410</td>\n",
       "      <td>0.393043</td>\n",
       "      <td>0.379345</td>\n",
       "      <td>0.368406</td>\n",
       "      <td>1.000000</td>\n",
       "      <td>0.678885</td>\n",
       "    </tr>\n",
       "    <tr>\n",
       "      <th>Base Stats</th>\n",
       "      <td>0.414897</td>\n",
       "      <td>0.832618</td>\n",
       "      <td>0.830127</td>\n",
       "      <td>0.474763</td>\n",
       "      <td>-0.121205</td>\n",
       "      <td>0.005923</td>\n",
       "      <td>0.526843</td>\n",
       "      <td>0.479638</td>\n",
       "      <td>0.497094</td>\n",
       "      <td>0.678885</td>\n",
       "      <td>1.000000</td>\n",
       "    </tr>\n",
       "  </tbody>\n",
       "</table>\n",
       "</div>"
      ],
      "text/plain": [
       "                     Age       OVA       BOV       POT    Height    Weight  \\\n",
       "Age             1.000000  0.517099  0.456734 -0.237619  0.092935  0.258682   \n",
       "OVA             0.517099  1.000000  0.985877  0.592268  0.027077  0.151834   \n",
       "BOV             0.456734  0.985877  1.000000  0.628323  0.015950  0.132560   \n",
       "POT            -0.237619  0.592268  0.628323  1.000000 -0.021094 -0.039809   \n",
       "Height          0.092935  0.027077  0.015950 -0.021094  1.000000  0.766072   \n",
       "Weight          0.258682  0.151834  0.132560 -0.039809  0.766072  1.000000   \n",
       "Value           0.095981  0.631679  0.640818  0.563570 -0.000407  0.040257   \n",
       "Wage            0.200851  0.592925  0.592453  0.462235  0.020740  0.068695   \n",
       "Release Clause  0.075386  0.597617  0.608384  0.549201  0.001362  0.034724   \n",
       "Total Stats     0.280383  0.607676  0.635037  0.329178 -0.367699 -0.246410   \n",
       "Base Stats      0.414897  0.832618  0.830127  0.474763 -0.121205  0.005923   \n",
       "\n",
       "                   Value      Wage  Release Clause  Total Stats  Base Stats  \n",
       "Age             0.095981  0.200851        0.075386     0.280383    0.414897  \n",
       "OVA             0.631679  0.592925        0.597617     0.607676    0.832618  \n",
       "BOV             0.640818  0.592453        0.608384     0.635037    0.830127  \n",
       "POT             0.563570  0.462235        0.549201     0.329178    0.474763  \n",
       "Height         -0.000407  0.020740        0.001362    -0.367699   -0.121205  \n",
       "Weight          0.040257  0.068695        0.034724    -0.246410    0.005923  \n",
       "Value           1.000000  0.822728        0.979295     0.393043    0.526843  \n",
       "Wage            0.822728  1.000000        0.798432     0.379345    0.479638  \n",
       "Release Clause  0.979295  0.798432        1.000000     0.368406    0.497094  \n",
       "Total Stats     0.393043  0.379345        0.368406     1.000000    0.678885  \n",
       "Base Stats      0.526843  0.479638        0.497094     0.678885    1.000000  "
      ]
     },
     "execution_count": 33,
     "metadata": {},
     "output_type": "execute_result"
    }
   ],
   "source": [
    "cor_matrix = data.corr()\n",
    "cor_matrix"
   ]
  },
  {
   "cell_type": "code",
   "execution_count": 34,
   "id": "dd4e5906",
   "metadata": {},
   "outputs": [
    {
     "data": {
      "image/png": "[encoded data removed]",
      "text/plain": [
       "<Figure size 720x720 with 2 Axes>"
      ]
     },
     "metadata": {
      "needs_background": "light"
     },
     "output_type": "display_data"
    }
   ],
   "source": [
    "fig, ax = plt.subplots(figsize=(10,10)) \n",
    "\n",
    "sns.heatmap(cor_matrix, annot=True)\n",
    "\n",
    "\n",
    "##OVA and BOV hav .99 collinearity. Will drop BOV\n",
    "\n",
    "data = data.drop('BOV', axis = 1)"
   ]
  },
  {
   "cell_type": "code",
   "execution_count": null,
   "id": "f600eba2",
   "metadata": {},
   "outputs": [],
   "source": []
  },
  {
   "cell_type": "code",
   "execution_count": 35,
   "id": "2744856e",
   "metadata": {},
   "outputs": [
    {
     "data": {
      "image/png": "[encoded data removed]",
      "text/plain": [
       "<Figure size 432x288 with 1 Axes>"
      ]
     },
     "metadata": {
      "needs_background": "light"
     },
     "output_type": "display_data"
    },
    {
     "data": {
      "image/png": "[encoded data removed]",
      "text/plain": [
       "<Figure size 432x288 with 1 Axes>"
      ]
     },
     "metadata": {
      "needs_background": "light"
     },
     "output_type": "display_data"
    },
    {
     "data": {
      "image/png": "[encoded data removed]",
      "text/plain": [
       "<Figure size 432x288 with 1 Axes>"
      ]
     },
     "metadata": {
      "needs_background": "light"
     },
     "output_type": "display_data"
    },
    {
     "data": {
      "image/png": "[encoded data removed]",
      "text/plain": [
       "<Figure size 432x288 with 1 Axes>"
      ]
     },
     "metadata": {
      "needs_background": "light"
     },
     "output_type": "display_data"
    },
    {
     "data": {
      "image/png": "[encoded data removed]",
      "text/plain": [
       "<Figure size 432x288 with 1 Axes>"
      ]
     },
     "metadata": {
      "needs_background": "light"
     },
     "output_type": "display_data"
    },
    {
     "data": {
      "image/png": "[encoded data removed]",
      "text/plain": [
       "<Figure size 432x288 with 1 Axes>"
      ]
     },
     "metadata": {
      "needs_background": "light"
     },
     "output_type": "display_data"
    },
    {
     "data": {
      "image/png": "[encoded data removed]",
      "text/plain": [
       "<Figure size 432x288 with 1 Axes>"
      ]
     },
     "metadata": {
      "needs_background": "light"
     },
     "output_type": "display_data"
    },
    {
     "data": {
      "image/png": "[encoded data removed]",
      "text/plain": [
       "<Figure size 432x288 with 1 Axes>"
      ]
     },
     "metadata": {
      "needs_background": "light"
     },
     "output_type": "display_data"
    },
    {
     "data": {
      "image/png": "[encoded data removed]",
      "text/plain": [
       "<Figure size 432x288 with 1 Axes>"
      ]
     },
     "metadata": {
      "needs_background": "light"
     },
     "output_type": "display_data"
    },
    {
     "data": {
      "image/png": "[encoded data removed]",
      "text/plain": [
       "<Figure size 432x288 with 1 Axes>"
      ]
     },
     "metadata": {
      "needs_background": "light"
     },
     "output_type": "display_data"
    }
   ],
   "source": [
    "#This will print a distribution chart for all num cols. Columns can be normalized/transformed as needed \n",
    "\n",
    "\n",
    "for col in data.select_dtypes('number').columns:\n",
    "    sns.distplot(data[col])\n",
    "    plt.show()"
   ]
  },
  {
   "cell_type": "code",
   "execution_count": null,
   "id": "934377e1",
   "metadata": {},
   "outputs": [],
   "source": []
  },
  {
   "cell_type": "code",
   "execution_count": 36,
   "id": "a7772c29",
   "metadata": {},
   "outputs": [
    {
     "data": {
      "text/plain": [
       "<AxesSubplot:xlabel='Height', ylabel='Density'>"
      ]
     },
     "execution_count": 36,
     "metadata": {},
     "output_type": "execute_result"
    },
    {
     "data": {
      "image/png": "[encoded data removed]",
      "text/plain": [
       "<Figure size 432x288 with 1 Axes>"
      ]
     },
     "metadata": {
      "needs_background": "light"
     },
     "output_type": "display_data"
    }
   ],
   "source": [
    "##Calculate interquartile range (25%--75%). Set limit variables based on IQR and filter column on limits\n",
    "##Standardizing column data distribution and filters outliers\n",
    "##Finally after running any filter the index must be reset\n",
    "\n",
    "IQR = np.percentile(data['Height'], 75) - np.percentile(data['Height'], 25)\n",
    "u_limit = np.percentile(data['Height'], 75) + 3*IQR\n",
    "l_limit = np.percentile(data['Height'], 25) - 3*IQR\n",
    "data = data[(data['Height'] < u_limit) & (data['Height'] > l_limit)]\n",
    "data = data.reset_index(drop=True)\n",
    "sns.distplot(data['Height'])"
   ]
  },
  {
   "cell_type": "code",
   "execution_count": 37,
   "id": "2f54346e",
   "metadata": {},
   "outputs": [
    {
     "data": {
      "text/plain": [
       "<AxesSubplot:xlabel='Weight', ylabel='Density'>"
      ]
     },
     "execution_count": 37,
     "metadata": {},
     "output_type": "execute_result"
    },
    {
     "data": {
      "image/png": "[encoded data removed]",
      "text/plain": [
       "<Figure size 432x288 with 1 Axes>"
      ]
     },
     "metadata": {
      "needs_background": "light"
     },
     "output_type": "display_data"
    }
   ],
   "source": [
    "IQR = np.percentile(data['Weight'], 75) - np.percentile(data['Weight'], 25)\n",
    "u_limit = np.percentile(data['Weight'], 75) + 1.5*IQR\n",
    "l_limit = np.percentile(data['Weight'], 25) - 1.5*IQR\n",
    "data = data[(data['Weight'] < u_limit) & (data['Weight'] > l_limit)]\n",
    "data = data.reset_index(drop=True)\n",
    "sns.distplot(data['Weight'])"
   ]
  },
  {
   "cell_type": "code",
   "execution_count": 38,
   "id": "83941b8f",
   "metadata": {},
   "outputs": [
    {
     "data": {
      "text/plain": [
       "<AxesSubplot:xlabel='Value', ylabel='Density'>"
      ]
     },
     "execution_count": 38,
     "metadata": {},
     "output_type": "execute_result"
    },
    {
     "data": {
      "image/png": "[encoded data removed]",
      "text/plain": [
       "<Figure size 432x288 with 1 Axes>"
      ]
     },
     "metadata": {
      "needs_background": "light"
     },
     "output_type": "display_data"
    }
   ],
   "source": [
    "IQR = np.percentile(data['Value'], 75) - np.percentile(data['Value'], 25)\n",
    "u_limit = np.percentile(data['Value'], 75) + 1*IQR\n",
    "l_limit = np.percentile(data['Value'], 25) - 1.5*IQR\n",
    "data = data[(data['Value'] < u_limit) & (data['Value'] > l_limit)]\n",
    "data = data.reset_index(drop=True)\n",
    "sns.distplot(data['Value'])"
   ]
  },
  {
   "cell_type": "code",
   "execution_count": null,
   "id": "1b6724d3",
   "metadata": {},
   "outputs": [],
   "source": []
  },
  {
   "cell_type": "code",
   "execution_count": 39,
   "id": "d8b503bd",
   "metadata": {},
   "outputs": [
    {
     "data": {
      "text/plain": [
       "<AxesSubplot:xlabel='Value', ylabel='Density'>"
      ]
     },
     "execution_count": 39,
     "metadata": {},
     "output_type": "execute_result"
    },
    {
     "data": {
      "image/png": "[encoded data removed]",
      "text/plain": [
       "<Figure size 432x288 with 1 Axes>"
      ]
     },
     "metadata": {
      "needs_background": "light"
     },
     "output_type": "display_data"
    }
   ],
   "source": [
    "def sq_rt_trans(x):\n",
    "    if x<0:\n",
    "        return 0\n",
    "    else:\n",
    "        return x**.5\n",
    "\n",
    "data['Value'] = list(map(sq_rt_trans, data['Value']))\n",
    "sns.distplot(data['Value'])"
   ]
  },
  {
   "cell_type": "code",
   "execution_count": null,
   "id": "82fe4049",
   "metadata": {},
   "outputs": [],
   "source": []
  },
  {
   "cell_type": "code",
   "execution_count": 40,
   "id": "a605f62a",
   "metadata": {},
   "outputs": [
    {
     "data": {
      "text/plain": [
       "<AxesSubplot:xlabel='Wage', ylabel='Density'>"
      ]
     },
     "execution_count": 40,
     "metadata": {},
     "output_type": "execute_result"
    },
    {
     "data": {
      "image/png": "[encoded data removed]",
      "text/plain": [
       "<Figure size 432x288 with 1 Axes>"
      ]
     },
     "metadata": {
      "needs_background": "light"
     },
     "output_type": "display_data"
    }
   ],
   "source": [
    "IQR = np.percentile(data['Wage'], 75) - np.percentile(data['Wage'], 25)\n",
    "u_limit = np.percentile(data['Wage'], 75) + 3*IQR\n",
    "l_limit = np.percentile(data['Wage'], 25) - 1.5*IQR\n",
    "data = data[(data['Wage'] < u_limit) & (data['Wage'] > l_limit)]\n",
    "data = data.reset_index(drop=True)\n",
    "sns.distplot(data['Wage'])"
   ]
  },
  {
   "cell_type": "code",
   "execution_count": 41,
   "id": "abc04dfd",
   "metadata": {},
   "outputs": [
    {
     "data": {
      "text/plain": [
       "<AxesSubplot:xlabel='Wage', ylabel='Density'>"
      ]
     },
     "execution_count": 41,
     "metadata": {},
     "output_type": "execute_result"
    },
    {
     "data": {
      "image/png": "[encoded data removed]",
      "text/plain": [
       "<Figure size 432x288 with 1 Axes>"
      ]
     },
     "metadata": {
      "needs_background": "light"
     },
     "output_type": "display_data"
    }
   ],
   "source": [
    "data['Wage'] = list(map(sq_rt_trans, data['Wage']))\n",
    "sns.distplot(data['Wage'])"
   ]
  },
  {
   "cell_type": "code",
   "execution_count": 42,
   "id": "2a5bf937",
   "metadata": {},
   "outputs": [
    {
     "data": {
      "text/plain": [
       "<AxesSubplot:xlabel='Release Clause', ylabel='Density'>"
      ]
     },
     "execution_count": 42,
     "metadata": {},
     "output_type": "execute_result"
    },
    {
     "data": {
      "image/png": "[encoded data removed]",
      "text/plain": [
       "<Figure size 432x288 with 1 Axes>"
      ]
     },
     "metadata": {
      "needs_background": "light"
     },
     "output_type": "display_data"
    }
   ],
   "source": [
    "IQR = np.percentile(data['Release Clause'], 75) - np.percentile(data['Release Clause'], 25)\n",
    "u_limit = np.percentile(data['Release Clause'], 75) + .5*IQR\n",
    "l_limit = np.percentile(data['Release Clause'], 25) - 1.5*IQR\n",
    "data = data[(data['Release Clause'] < u_limit) & (data['Release Clause'] > l_limit)]\n",
    "data = data.reset_index(drop=True)\n",
    "sns.distplot(data['Release Clause'])"
   ]
  },
  {
   "cell_type": "code",
   "execution_count": 43,
   "id": "c1a7c6e5",
   "metadata": {},
   "outputs": [
    {
     "data": {
      "text/plain": [
       "<AxesSubplot:xlabel='Release Clause', ylabel='Density'>"
      ]
     },
     "execution_count": 43,
     "metadata": {},
     "output_type": "execute_result"
    },
    {
     "data": {
      "image/png": "[encoded data removed]",
      "text/plain": [
       "<Figure size 432x288 with 1 Axes>"
      ]
     },
     "metadata": {
      "needs_background": "light"
     },
     "output_type": "display_data"
    }
   ],
   "source": [
    "data['Release Clause'] = list(map(sq_rt_trans, data['Release Clause']))\n",
    "sns.distplot(data['Release Clause'])"
   ]
  },
  {
   "cell_type": "code",
   "execution_count": null,
   "id": "e554ac6d",
   "metadata": {},
   "outputs": [],
   "source": []
  },
  {
   "cell_type": "code",
   "execution_count": 44,
   "id": "cfb5c4b0",
   "metadata": {},
   "outputs": [
    {
     "data": {
      "text/plain": [
       "<AxesSubplot:xlabel='Total Stats', ylabel='Density'>"
      ]
     },
     "execution_count": 44,
     "metadata": {},
     "output_type": "execute_result"
    },
    {
     "data": {
      "image/png": "[encoded data removed]",
      "text/plain": [
       "<Figure size 432x288 with 1 Axes>"
      ]
     },
     "metadata": {
      "needs_background": "light"
     },
     "output_type": "display_data"
    }
   ],
   "source": [
    "IQR = np.percentile(data['Total Stats'], 75) - np.percentile(data['Total Stats'], 25)\n",
    "u_limit = np.percentile(data['Total Stats'], 75) + 1.5*IQR\n",
    "l_limit = np.percentile(data['Total Stats'], 25) - 1.5*IQR\n",
    "data = data[(data['Total Stats'] < u_limit) & (data['Total Stats'] > l_limit)]\n",
    "data = data.reset_index(drop=True)\n",
    "sns.distplot(data['Total Stats'])"
   ]
  },
  {
   "cell_type": "code",
   "execution_count": null,
   "id": "c91216ed",
   "metadata": {},
   "outputs": [],
   "source": []
  },
  {
   "cell_type": "code",
   "execution_count": 45,
   "id": "e2122413",
   "metadata": {},
   "outputs": [],
   "source": [
    "#Separating the target data as the variable Y\n",
    "y = data['OVA']\n",
    "x = data.drop(['OVA'], axis = 1)"
   ]
  },
  {
   "cell_type": "code",
   "execution_count": 46,
   "id": "caf6f556",
   "metadata": {},
   "outputs": [
    {
     "data": {
      "text/plain": [
       "(10875,)"
      ]
     },
     "execution_count": 46,
     "metadata": {},
     "output_type": "execute_result"
    }
   ],
   "source": [
    "y.shape"
   ]
  },
  {
   "cell_type": "code",
   "execution_count": 47,
   "id": "66ccd319",
   "metadata": {},
   "outputs": [
    {
     "data": {
      "text/plain": [
       "(10875, 13)"
      ]
     },
     "execution_count": 47,
     "metadata": {},
     "output_type": "execute_result"
    }
   ],
   "source": [
    "x.shape"
   ]
  },
  {
   "cell_type": "code",
   "execution_count": 48,
   "id": "7f170f53",
   "metadata": {},
   "outputs": [
    {
     "data": {
      "text/html": [
       "<div>\n",
       "<style scoped>\n",
       "    .dataframe tbody tr th:only-of-type {\n",
       "        vertical-align: middle;\n",
       "    }\n",
       "\n",
       "    .dataframe tbody tr th {\n",
       "        vertical-align: top;\n",
       "    }\n",
       "\n",
       "    .dataframe thead th {\n",
       "        text-align: right;\n",
       "    }\n",
       "</style>\n",
       "<table border=\"1\" class=\"dataframe\">\n",
       "  <thead>\n",
       "    <tr style=\"text-align: right;\">\n",
       "      <th></th>\n",
       "      <th>0</th>\n",
       "    </tr>\n",
       "  </thead>\n",
       "  <tbody>\n",
       "    <tr>\n",
       "      <th>0</th>\n",
       "      <td>0.0</td>\n",
       "    </tr>\n",
       "    <tr>\n",
       "      <th>1</th>\n",
       "      <td>1.0</td>\n",
       "    </tr>\n",
       "    <tr>\n",
       "      <th>2</th>\n",
       "      <td>1.0</td>\n",
       "    </tr>\n",
       "    <tr>\n",
       "      <th>3</th>\n",
       "      <td>1.0</td>\n",
       "    </tr>\n",
       "    <tr>\n",
       "      <th>4</th>\n",
       "      <td>1.0</td>\n",
       "    </tr>\n",
       "  </tbody>\n",
       "</table>\n",
       "</div>"
      ],
      "text/plain": [
       "     0\n",
       "0  0.0\n",
       "1  1.0\n",
       "2  1.0\n",
       "3  1.0\n",
       "4  1.0"
      ]
     },
     "execution_count": 48,
     "metadata": {},
     "output_type": "execute_result"
    }
   ],
   "source": [
    "#Encoding \"foot\" col using OneHot\n",
    "OHE = OneHotEncoder(drop='first')\n",
    "\n",
    "Foot_OHE = OHE.fit_transform(x['foot'].values.reshape(-1, 1)).toarray()\n",
    "Foot_OHE = pd.DataFrame(Foot_OHE)\n",
    "Foot_OHE.head()\n",
    "\n"
   ]
  },
  {
   "cell_type": "code",
   "execution_count": 49,
   "id": "a400146d",
   "metadata": {},
   "outputs": [
    {
     "data": {
      "text/html": [
       "<div>\n",
       "<style scoped>\n",
       "    .dataframe tbody tr th:only-of-type {\n",
       "        vertical-align: middle;\n",
       "    }\n",
       "\n",
       "    .dataframe tbody tr th {\n",
       "        vertical-align: top;\n",
       "    }\n",
       "\n",
       "    .dataframe thead th {\n",
       "        text-align: right;\n",
       "    }\n",
       "</style>\n",
       "<table border=\"1\" class=\"dataframe\">\n",
       "  <thead>\n",
       "    <tr style=\"text-align: right;\">\n",
       "      <th></th>\n",
       "      <th>0</th>\n",
       "    </tr>\n",
       "  </thead>\n",
       "  <tbody>\n",
       "    <tr>\n",
       "      <th>0</th>\n",
       "      <td>76</td>\n",
       "    </tr>\n",
       "    <tr>\n",
       "      <th>1</th>\n",
       "      <td>136</td>\n",
       "    </tr>\n",
       "    <tr>\n",
       "      <th>2</th>\n",
       "      <td>47</td>\n",
       "    </tr>\n",
       "    <tr>\n",
       "      <th>3</th>\n",
       "      <td>144</td>\n",
       "    </tr>\n",
       "    <tr>\n",
       "      <th>4</th>\n",
       "      <td>57</td>\n",
       "    </tr>\n",
       "  </tbody>\n",
       "</table>\n",
       "</div>"
      ],
      "text/plain": [
       "     0\n",
       "0   76\n",
       "1  136\n",
       "2   47\n",
       "3  144\n",
       "4   57"
      ]
     },
     "execution_count": 49,
     "metadata": {},
     "output_type": "execute_result"
    }
   ],
   "source": [
    "#Encloding the nationality column with Labelencoder\n",
    "\n",
    "LE = LabelEncoder()\n",
    "\n",
    "nat = LE.fit_transform(x['Nationality'])\n",
    "nat = pd.DataFrame(nat)\n",
    "nat.head()             \n",
    "                       \n",
    "                       \n",
    "                     \n",
    "\n"
   ]
  },
  {
   "cell_type": "code",
   "execution_count": 50,
   "id": "29928cc6",
   "metadata": {},
   "outputs": [],
   "source": [
    "#Scaliong numerical data columns\n",
    "scale = MinMaxScaler().fit_transform(x.select_dtypes('number'))\n",
    "scale = pd.DataFrame(scale)"
   ]
  },
  {
   "cell_type": "code",
   "execution_count": 51,
   "id": "9487794b",
   "metadata": {},
   "outputs": [
    {
     "data": {
      "text/plain": [
       "(10875, 11)"
      ]
     },
     "execution_count": 51,
     "metadata": {},
     "output_type": "execute_result"
    }
   ],
   "source": [
    "#Joining encoded columns and scaled num cols into a single feature data dataframe\n",
    "feature = pd.concat([Foot_OHE, nat, scale], axis=1)\n",
    "feature.shape"
   ]
  },
  {
   "cell_type": "code",
   "execution_count": null,
   "id": "c4a54cb3",
   "metadata": {},
   "outputs": [],
   "source": []
  },
  {
   "cell_type": "code",
   "execution_count": 52,
   "id": "5ade60a4",
   "metadata": {},
   "outputs": [],
   "source": [
    "#Dividing data into training and testing data\n",
    "x_train, x_test, y_train, y_test = train_test_split(feature, y, test_size=.2, random_state=100)"
   ]
  },
  {
   "cell_type": "code",
   "execution_count": 53,
   "id": "c6f2b6cf",
   "metadata": {},
   "outputs": [
    {
     "data": {
      "text/plain": [
       "LinearRegression()"
      ]
     },
     "execution_count": 53,
     "metadata": {},
     "output_type": "execute_result"
    }
   ],
   "source": [
    "# Applying the model to training data\n",
    "model = LinearRegression()\n",
    "model.fit(x_train, y_train)"
   ]
  },
  {
   "cell_type": "code",
   "execution_count": 54,
   "id": "eab72b66",
   "metadata": {},
   "outputs": [],
   "source": [
    "predictions = model.predict(x_test)"
   ]
  },
  {
   "cell_type": "code",
   "execution_count": 55,
   "id": "daf6d292",
   "metadata": {},
   "outputs": [
    {
     "data": {
      "text/plain": [
       "array([62.38526773, 64.88499122, 63.94288554, 61.67724189, 63.98897812,\n",
       "       65.40166065, 65.16454675, 65.1475093 , 60.27856871, 62.14586106])"
      ]
     },
     "execution_count": 55,
     "metadata": {},
     "output_type": "execute_result"
    }
   ],
   "source": [
    "predictions[:10]"
   ]
  },
  {
   "cell_type": "code",
   "execution_count": 56,
   "id": "42a7d5d8",
   "metadata": {},
   "outputs": [
    {
     "data": {
      "text/plain": [
       "7495    65\n",
       "3695    66\n",
       "2976    63\n",
       "8812    63\n",
       "7085    65\n",
       "9522    65\n",
       "6790    65\n",
       "557     64\n",
       "1637    62\n",
       "497     61\n",
       "Name: OVA, dtype: int64"
      ]
     },
     "execution_count": 56,
     "metadata": {},
     "output_type": "execute_result"
    }
   ],
   "source": [
    "y_test[:10]"
   ]
  },
  {
   "cell_type": "code",
   "execution_count": 57,
   "id": "397e3f6a",
   "metadata": {},
   "outputs": [
    {
     "data": {
      "text/plain": [
       "3.4825273841164126"
      ]
     },
     "execution_count": 57,
     "metadata": {},
     "output_type": "execute_result"
    }
   ],
   "source": [
    "mse = mean_squared_error(predictions, y_test)\n",
    "mse"
   ]
  },
  {
   "cell_type": "code",
   "execution_count": 58,
   "id": "6ac03b4b",
   "metadata": {},
   "outputs": [
    {
     "data": {
      "text/plain": [
       "1.8661530977163725"
      ]
     },
     "execution_count": 58,
     "metadata": {},
     "output_type": "execute_result"
    }
   ],
   "source": [
    "rmse = mse**.5\n",
    "rmse"
   ]
  },
  {
   "cell_type": "code",
   "execution_count": 59,
   "id": "f08c004b",
   "metadata": {},
   "outputs": [
    {
     "data": {
      "text/plain": [
       "1.3930025737180287"
      ]
     },
     "execution_count": 59,
     "metadata": {},
     "output_type": "execute_result"
    }
   ],
   "source": [
    "mae = mean_absolute_error(predictions, y_test)\n",
    "mae"
   ]
  },
  {
   "cell_type": "code",
   "execution_count": 60,
   "id": "ffa8229d",
   "metadata": {},
   "outputs": [
    {
     "data": {
      "text/plain": [
       "0.8397780016844768"
      ]
     },
     "execution_count": 60,
     "metadata": {},
     "output_type": "execute_result"
    }
   ],
   "source": [
    "r_sq = r2_score(predictions, y_test)\n",
    "r_sq"
   ]
  }
 ],
 "metadata": {
  "kernelspec": {
   "display_name": "Python 3 (ipykernel)",
   "language": "python",
   "name": "python3"
  },
  "language_info": {
   "codemirror_mode": {
    "name": "ipython",
    "version": 3
   },
   "file_extension": ".py",
   "mimetype": "text/x-python",
   "name": "python",
   "nbconvert_exporter": "python",
   "pygments_lexer": "ipython3",
   "version": "3.9.7"
  }
 },
 "nbformat": 4,
 "nbformat_minor": 5
}
